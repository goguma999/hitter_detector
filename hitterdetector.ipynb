{
  "nbformat": 4,
  "nbformat_minor": 0,
  "metadata": {
    "colab": {
      "provenance": [],
      "authorship_tag": "ABX9TyO7m8WCK0f8oa923hj9/wsZ",
      "include_colab_link": true
    },
    "kernelspec": {
      "name": "python3",
      "display_name": "Python 3"
    },
    "language_info": {
      "name": "python"
    }
  },
  "cells": [
    {
      "cell_type": "markdown",
      "metadata": {
        "id": "view-in-github",
        "colab_type": "text"
      },
      "source": [
        "<a href=\"https://colab.research.google.com/github/goguma999/Portfolio/blob/main/hitterdetector.ipynb\" target=\"_parent\"><img src=\"https://colab.research.google.com/assets/colab-badge.svg\" alt=\"Open In Colab\"/></a>"
      ]
    },
    {
      "cell_type": "code",
      "execution_count": null,
      "metadata": {
        "id": "c9fVRb3_ca_Z"
      },
      "outputs": [],
      "source": [
        "from google.colab import drive\n",
        "drive.mount('/content/drive')"
      ]
    },
    {
      "cell_type": "code",
      "source": [
        "########################  라벨 바꾸기\n",
        "import os\n",
        "\n",
        "# 폴더 경로 지정\n",
        "folders = [\n",
        "    \"/content/drive/MyDrive/batting/alltrain\",\n",
        "    \"/content/drive/MyDrive/batting/allval\"\n",
        "]\n",
        "\n",
        "# 각 폴더에서 khd로 시작하는 .txt 파일 내용을 수정\n",
        "for folder_path in folders:\n",
        "    count = 0  # 변경된 파일 수를 셀 변수\n",
        "    for filename in os.listdir(folder_path):\n",
        "        # 파일이 ooo로 시작하고 .txt 확장자인지 확인\n",
        "        if filename.startswith(\"nsh\") and filename.endswith(\".txt\"):\n",
        "            file_path = os.path.join(folder_path, filename)\n",
        "\n",
        "            # 파일 읽기 및 첫 글자 수정\n",
        "            with open(file_path, 'r+', encoding='utf-8') as file:\n",
        "                content = file.read()\n",
        "                if content:  # 내용이 있는 경우\n",
        "                    # 첫 글자를 'n'으로 바꿔서 저장\n",
        "                    new_content = '5' + content[1:]\n",
        "                    file.seek(0)\n",
        "                    file.write(new_content)\n",
        "                    file.truncate()\n",
        "                    #print(f\"{file_path}: 첫 글자를 '5'로 변경했습니다.\")\n",
        "                    count += 1  # 변경된 파일 수 증가\n",
        "\n",
        "    print(f\"{folder_path} 폴더에서 총 {count}개의 파일 내용을 변경했습니다.\\n\")\n",
        "\n",
        "print(\"모든 파일 내용 변경 완료!\")\n"
      ],
      "metadata": {
        "id": "ovvw38xFd-UP"
      },
      "execution_count": null,
      "outputs": []
    },
    {
      "cell_type": "code",
      "source": [
        "import yaml\n",
        "\n",
        "#데이터셋 경로 및 클래스 정보 설정\n",
        "data_yaml = {\n",
        "    'train': '/content/drive/MyDrive/batting/alltrain',  # Train 데이터 경로\n",
        "    'val': '/content/drive/MyDrive/batting/allval',  # Validation 데이터 경로\n",
        "    'nc': 6,  # 클래스 수\n",
        "    'names': ['geonchang', 'yongkyu', 'heedong', 'daehyung', 'byungho', 'sihwan'] } # 클래스 이름\n",
        "\n",
        "# yaml 파일 저장 경로 설정\n",
        "yaml_file_path = '/content/drive/MyDrive/batting/data.yaml'\n",
        "\n",
        "# data.yaml 파일 생성\n",
        "with open(yaml_file_path, 'w') as yaml_file:\n",
        "    yaml.dump(data_yaml, yaml_file, default_flow_style=False)\n",
        "\n",
        "print(f\"data.yaml 파일이 {yaml_file_path} 경로에 성공적으로 생성되었습니다.\")"
      ],
      "metadata": {
        "id": "1cLp5_Kmd-SC"
      },
      "execution_count": null,
      "outputs": []
    },
    {
      "cell_type": "code",
      "source": [
        "# YOLO 라이브러리 설치\n",
        "!pip install ultralytics\n",
        "\n",
        "# YOLO 라이브러리 불러오기\n",
        "from ultralytics import YOLO\n",
        "\n",
        "# W&B 비활성화 (필수)\n",
        "import os\n",
        "os.environ['WANDB_MODE'] = 'offline'\n",
        "\n",
        "# YOLOv8 모델 불러오기\n",
        "model = YOLO('yolov8s.pt')\n",
        "\n",
        "# 학습 데이터셋 경로 설정\n",
        "data_yaml = '/content/drive/MyDrive/batting/data.yaml'\n",
        "\n",
        "# 모델 학습 실행\n",
        "model.train(\n",
        "    data=data_yaml, #학습에 사용할 데이터 경로(data.yaml 파일)\n",
        "    epochs=50, #학습을 반복할 횟수\n",
        "    imgsz=480, #이미지 크기\n",
        "    batch=8, #배치 크기\n",
        "    name='hitter_detector', #프로젝트 이름\n",
        "    workers=4)  # 데이터 로딩에 사용할 CPU 코어 수\n",
        "\n",
        "model.save('/content/drive/MyDrive/batting/6_trained_model.pt')"
      ],
      "metadata": {
        "id": "lWnXsL9sd-QJ"
      },
      "execution_count": null,
      "outputs": []
    },
    {
      "cell_type": "code",
      "source": [
        "###################### 영상에 모델 적용하기 - 타겟을 감지하는지 확인\n",
        "import cv2\n",
        "import torch\n",
        "from ultralytics import YOLO\n",
        "\n",
        "# YOLO 모델을 로드합니다 (이미 로드된 상태라면 이 부분은 건너뛰세요)\n",
        "model = YOLO('/content/drive/MyDrive/batting/6_trained_model.pt')\n",
        "\n",
        "\n",
        "# 클래스 이름과 각각의 색상 설정 (BGR 형식)\n",
        "class_names = ['geonchang', 'yonggyu', 'heedong', 'daehyung', 'byungho', 'sihwan']\n",
        "colors = {\n",
        "    \"geonchang\": (0, 255, 0),   # Green\n",
        "    \"yonggyu\": (0, 0, 255),     # Red\n",
        "    \"heedong\": (255, 0, 0),     # Blue\n",
        "    \"daehyung\": (0, 255, 255), # Yellow\n",
        "    \"byungho\": (128, 0, 128),  # Purple\n",
        "    \"sihwan\": (255, 200, 100)     # Light Blue\n",
        "}\n",
        "\n",
        "# 동영상 파일 경로\n",
        "video_path = '/content/drive/MyDrive/batting/testmp4/05gc.mp4'  # 동영상 경로를 적절히 수정하세요\n",
        "output_video_path = '/content/drive/MyDrive/batting/mp4/all_output.mp4'  # 출력될 동영상 경로\n",
        "\n",
        "# 동영상을 불러옵니다\n",
        "cap = cv2.VideoCapture(video_path)\n",
        "\n",
        "# 동영상의 프레임 크기 및 FPS를 가져옵니다\n",
        "frame_width = int(cap.get(cv2.CAP_PROP_FRAME_WIDTH))\n",
        "frame_height = int(cap.get(cv2.CAP_PROP_FRAME_HEIGHT))\n",
        "fps = cap.get(cv2.CAP_PROP_FPS)\n",
        "\n",
        "# 출력 동영상을 저장할 준비를 합니다\n",
        "fourcc = cv2.VideoWriter_fourcc(*'mp4v')  # 코덱 설정\n",
        "out = cv2.VideoWriter(output_video_path, fourcc, fps, (frame_width, frame_height))\n",
        "\n",
        "# Confidence와 IOU 임계값을 설정\n",
        "confidence_threshold = 0.65  # 원하는 신뢰도 임계값으로 조정\n",
        "iou_threshold = 0.5         # 원하는 IOU 임계값으로 조정\n",
        "\n",
        "while cap.isOpened():\n",
        "    ret, frame = cap.read()\n",
        "    if not ret:\n",
        "        break  # 동영상이 끝나면 루프를 종료합니다\n",
        "\n",
        "    # YOLO 모델을 사용하여 현재 프레임에서 사물 검출을 수행합니다\n",
        "    results = model(frame)\n",
        "\n",
        "    # confidence_threshold 이상인 검출 결과만 그리도록 필터링\n",
        "    for result in results:\n",
        "        boxes = result.boxes\n",
        "        for box in boxes:\n",
        "            if box.conf >= confidence_threshold:\n",
        "                # 박스 좌표 및 신뢰도 가져오기\n",
        "                x1, y1, x2, y2 = map(int, box.xyxy[0])\n",
        "                confidence = box.conf.item()\n",
        "                class_id = int(box.cls.item())\n",
        "\n",
        "                # 클래스 인덱스가 유효한 경우에만 처리\n",
        "                if class_id < len(class_names):\n",
        "                    class_name = class_names[class_id]\n",
        "                    label = f\"{class_name} {confidence:.2f}\"\n",
        "\n",
        "                    # 클래스별 색상 선택 (기본은 파란색)\n",
        "                    color = colors.get(class_name, (255, 0, 0))\n",
        "\n",
        "                    # 박스를 그립니다\n",
        "                    cv2.rectangle(frame, (x1, y1), (x2, y2), color, 2)\n",
        "                    # 글씨를 크게 표시하고, 위치를 조정합니다\n",
        "                    cv2.putText(frame, label, (x1, y1 - 10), cv2.FONT_HERSHEY_SIMPLEX, 1, color, 3)\n",
        "\n",
        "    # 결과가 그려진 프레임을 출력 동영상에 저장합니다\n",
        "    out.write(frame)\n",
        "\n",
        "\n",
        "    # 결과를 실시간으로 확인하려면 아래 코드 사용 (원하는 경우)\n",
        "    # cv2.imshow('Detected Frame', frame)\n",
        "    # if cv2.waitKey(1) & 0xFF == ord('q'):\n",
        "    #     break\n",
        "\n",
        "# 리소스 해제\n",
        "cap.release()\n",
        "out.release()\n",
        "# cv2.destroyAllWindows()"
      ],
      "metadata": {
        "id": "UAKMpyQId-Nu"
      },
      "execution_count": null,
      "outputs": []
    }
  ]
}
